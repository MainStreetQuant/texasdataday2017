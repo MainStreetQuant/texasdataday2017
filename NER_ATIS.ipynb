{
 "cells": [
  {
   "cell_type": "markdown",
   "metadata": {},
   "source": [
    "## Contents\n",
    "\n",
    "* Loading Data\n",
    "* RNN\n",
    "* CRF\n",
    "* Results Comparison"
   ]
  },
  {
   "cell_type": "markdown",
   "metadata": {},
   "source": [
    "## I. Load Data"
   ]
  },
  {
   "cell_type": "code",
   "execution_count": 1,
   "metadata": {
    "collapsed": true
   },
   "outputs": [],
   "source": [
    "import pickle"
   ]
  },
  {
   "cell_type": "code",
   "execution_count": 2,
   "metadata": {
    "collapsed": true
   },
   "outputs": [],
   "source": [
    "path = \"/Users/jacobsw/Desktop/WORK/OJO/NER_PRESENTATION/DATA/atis.pkl\""
   ]
  },
  {
   "cell_type": "code",
   "execution_count": 3,
   "metadata": {
    "collapsed": true
   },
   "outputs": [],
   "source": [
    "def load_atis(path):\n",
    "    \n",
    "    with open(path, 'rb') as f:\n",
    "        train, valid, test, dicts = pickle.load(f)\n",
    "    \n",
    "    train = (train[0],train[2]) # 0: encoded words; 1: encoded labels.\n",
    "    valid = (valid[0],valid[2])\n",
    "    test = (test[0],test[2])\n",
    "\n",
    "    return {'train':train, 'valid':valid, 'test':test, 'dicts':dicts}"
   ]
  },
  {
   "cell_type": "code",
   "execution_count": 4,
   "metadata": {
    "collapsed": true
   },
   "outputs": [],
   "source": [
    "data = load_atis(path)"
   ]
  },
  {
   "cell_type": "code",
   "execution_count": 5,
   "metadata": {
    "collapsed": true
   },
   "outputs": [],
   "source": [
    "TRAIN_SIZES = range(10,201,10) + range(300,1001,100) + [2000,3000,3983]"
   ]
  },
  {
   "cell_type": "code",
   "execution_count": 6,
   "metadata": {
    "collapsed": false
   },
   "outputs": [
    {
     "name": "stdout",
     "output_type": "stream",
     "text": [
      "[10, 20, 30, 40, 50, 60, 70, 80, 90, 100, 110, 120, 130, 140, 150, 160, 170, 180, 190, 200, 300, 400, 500, 600, 700, 800, 900, 1000, 2000, 3000, 3983]\n"
     ]
    }
   ],
   "source": [
    "print TRAIN_SIZES"
   ]
  },
  {
   "cell_type": "markdown",
   "metadata": {},
   "source": [
    "## II. RNN"
   ]
  },
  {
   "cell_type": "code",
   "execution_count": 7,
   "metadata": {
    "collapsed": true
   },
   "outputs": [],
   "source": [
    "import numpy as np"
   ]
  },
  {
   "cell_type": "code",
   "execution_count": 8,
   "metadata": {
    "collapsed": false
   },
   "outputs": [
    {
     "name": "stderr",
     "output_type": "stream",
     "text": [
      "Using Theano backend.\n"
     ]
    }
   ],
   "source": [
    "from keras.models import Sequential\n",
    "from keras.layers import Embedding, SimpleRNN, LSTM, GRU, Dense, Activation, TimeDistributed\n",
    "from keras.optimizers import SGD\n",
    "from keras.utils.np_utils import to_categorical\n",
    "from keras.regularizers import l1, l2"
   ]
  },
  {
   "cell_type": "code",
   "execution_count": 10,
   "metadata": {
    "collapsed": true
   },
   "outputs": [],
   "source": [
    "class RNN:\n",
    "    \n",
    "    def __init__(self, data, mode='simple_rnn'):\n",
    "        '''\n",
    "        # data: a dictionary which contains ...\n",
    "            {'train':train, 'valid':valid, 'test':test, 'dicts':dicts}\n",
    "            each value in the dictionary is a 2-tuple ...\n",
    "            (encoded_sentences, encoded_labels)\n",
    "            dicts includes ...\n",
    "            'words2idx', 'labels2idx'\n",
    "        # mode: 'simple_rnn', 'lstm', 'gru'.\n",
    "        '''\n",
    "        if mode not in ['simple_rnn','lstm','gru']:\n",
    "            print \"MODE ERROR: only 'simple_rnn','lstm','gru'. \\n\"\n",
    "            return\n",
    "        self.mode = mode\n",
    "        \n",
    "        transform = {'x': lambda x: np.asarray([x]), \n",
    "                     'y': lambda y: to_categorical(np.asarray(y)[:,np.newaxis],\n",
    "                                                   len(data['dicts']['labels2idx']))[np.newaxis,:,:]}\n",
    "            # len(data['dicts']['labels2idx']): number of labels.\n",
    "        try:\n",
    "            data_transformed = [ (map(transform['x'],x), map(transform['y'],y)) \n",
    "                                 for x,y in [data['train'], data['valid'], data['test']] ]\n",
    "            self.X_train, self.Y_train = data_transformed[0]\n",
    "            self.X_valid, self.Y_valid = data_transformed[1]\n",
    "            self.X_test, self.Y_test = data_transformed[2]\n",
    "            self.dicts = data['dicts']\n",
    "        except:\n",
    "            print \"DATA FORMAT ERROR: \\n\", \\\n",
    "                  \"data = {'train':train, 'valid':valid, 'test':test, 'dicts':dicts} \\n\", \\\n",
    "                  \"value = (encoded_sentences, encoded_labels) \\n\"\n",
    "    \n",
    "    def __shuffle(self, X, Y, seed):\n",
    "        '''\n",
    "        # X, Y: data and corresponding labels.\n",
    "        # seed: ensure the same after-shuffle order for X and Y.\n",
    "        '''\n",
    "        random.seed(seed)\n",
    "        random.shuffle(X)\n",
    "        random.seed(seed)\n",
    "        random.shuffle(Y)\n",
    "    \n",
    "    def __get_mean_evaluation(self, X, Y, model):\n",
    "        '''\n",
    "        # X, Y: data and corresponding labels.\n",
    "        # return: average loss and accuracy on X and Y\n",
    "        '''\n",
    "        evaluation_size = len(X)\n",
    "        losses, accuracies = [], []\n",
    "        for i in xrange(evaluation_size):\n",
    "            loss,accuracy = model.evaluate(X[i],Y[i],verbose=0)\n",
    "            losses.append(loss)\n",
    "            accuracies.append(accuracy)\n",
    "        return (np.mean(losses),np.mean(accuracies))\n",
    "    \n",
    "    def train(self, validation=False, validation_freq=1000,\n",
    "                    lr=.1, nhidden=100, emb_dim=100, nepochs=20,\n",
    "                    regularize=False, reg_method='l2',lmd=.1,\n",
    "                    TRAIN_SIZE=0,\n",
    "                    report_architecture=0):\n",
    "        '''\n",
    "        # validation, validation_freq: \n",
    "            if true, run validation at validation_freq epoch (1 by default).\n",
    "        # verbose, verbose_freq: \n",
    "            0: only print out simple messages (e.g. '... building models').\n",
    "            1: print out validation too.\n",
    "            print training progress after training every verbose_freq sentences.\n",
    "        # lr: learning rate.\n",
    "        # nhidden: number of hidden neurons.\n",
    "        # emb_dim: dimension of word embeddings.\n",
    "        # nepochs: number of epochs.\n",
    "        # regularize: regularize or not.\n",
    "        # reg_method: Lasso or L2 regularization.\n",
    "        # lmd: regularization hyperparam.\n",
    "        # return: end training when max patience is reached.\n",
    "        '''\n",
    "        \n",
    "        vocsize = len(self.dicts['words2idx'])\n",
    "        nlabels = len(self.dicts['labels2idx'])\n",
    "        nsents = TRAIN_SIZE\n",
    "        self.dicts['idx2labels'] = {i:l for l,i in self.dicts['labels2idx'].iteritems()}\n",
    "        self.dicts['idx2words'] = {i:w for w,i in self.dicts['words2idx'].iteritems()}\n",
    "            \n",
    "        if regularize:\n",
    "            regularizer = l2(lmd) if reg_method=='l2' else l1(lmd)\n",
    "        else:\n",
    "            regularizer = None\n",
    "        model_types = {'simple_rnn':SimpleRNN, 'lstm':LSTM, 'gru':GRU}\n",
    "        model = Sequential()\n",
    "        model.add(Embedding(input_dim=vocsize, output_dim=emb_dim, W_regularizer=regularizer))\n",
    "        model.add(model_types[self.mode](output_dim=nhidden, activation='sigmoid', \n",
    "                       return_sequences=True, W_regularizer=regularizer))\n",
    "        model.add(TimeDistributed(Dense(output_dim=nlabels)))\n",
    "        model.add(Activation('softmax'))\n",
    "        sgd = SGD(lr=lr, momentum=.0, decay=.0, nesterov=False)\n",
    "        model.compile(loss='categorical_crossentropy', optimizer=sgd, metrics=['accuracy'])\n",
    "        \n",
    "        if report_architecture: \n",
    "            model.summary()\n",
    "            return\n",
    "        \n",
    "        self.best_model = model\n",
    "        \n",
    "        patience = 3000\n",
    "        patience_increase_ratio = 2\n",
    "        improvement_threshold = .995\n",
    "        best_iter = 0\n",
    "        best_loss = np.inf\n",
    "        best_accuracy = 0.\n",
    "        done_looping = False # stop training when patience are broken.\n",
    "        num_iter = 0\n",
    "        for e in xrange(nepochs):\n",
    "            if done_looping: break\n",
    "            e += 1       \n",
    "            assert TRAIN_SIZE != 0\n",
    "            sample_idxs = random.sample(range(len(self.X_train)),TRAIN_SIZE)\n",
    "            X_train_samples = [self.X_train[k] for k in sample_idxs]\n",
    "            Y_train_samples = [self.Y_train[k] for k in sample_idxs]\n",
    "            \n",
    "            self.__shuffle(X_train_samples,Y_train_samples,seed=0)\n",
    "            for i in xrange(nsents):\n",
    "                num_iter += 1\n",
    "                if X_train_samples[i].shape[1]==1: continue\n",
    "                model.train_on_batch(X_train_samples[i],Y_train_samples[i])\n",
    "        \n",
    "                if validation and i%validation_freq==0:\n",
    "                    sample_idxs = random.sample(range(len(self.X_valid)),100)\n",
    "                    X_valid_samples = [self.X_valid[k] for k in sample_idxs]\n",
    "                    Y_valid_samples = [self.Y_valid[k] for k in sample_idxs]\n",
    "                    avg_loss, avg_accuracy = self.__get_mean_evaluation(X_valid_samples, \n",
    "                                                                        Y_valid_samples,\n",
    "                                                                        model)\n",
    "                    if avg_loss < best_loss*improvement_threshold and \\\n",
    "                       avg_accuracy > best_accuracy:\n",
    "                        self.best_model = model\n",
    "                        patience = max(patience, num_iter*patience_increase_ratio)\n",
    "                        best_loss = avg_loss\n",
    "                        best_accuracy = avg_accuracy\n",
    "                        best_iter = num_iter                        \n",
    "                    if patience <= num_iter:\n",
    "                        done_looping = True\n",
    "                        break\n",
    "\n",
    "        mean_test_loss, mean_test_accuracy = self.__get_mean_evaluation(self.X_test,\n",
    "                                                                        self.Y_test,\n",
    "                                                                        self.best_model)\n",
    "        \n",
    "        return mean_test_accuracy\n"
   ]
  },
  {
   "cell_type": "code",
   "execution_count": 11,
   "metadata": {
    "collapsed": true
   },
   "outputs": [],
   "source": [
    "rnn = RNN(data)"
   ]
  },
  {
   "cell_type": "code",
   "execution_count": 12,
   "metadata": {
    "collapsed": false
   },
   "outputs": [
    {
     "name": "stdout",
     "output_type": "stream",
     "text": [
      "____________________________________________________________________________________________________\n",
      "Layer (type)                       Output Shape        Param #     Connected to                     \n",
      "====================================================================================================\n",
      "embedding_1 (Embedding)            (None, None, 100)   57200       embedding_input_1[0][0]          \n",
      "____________________________________________________________________________________________________\n",
      "simplernn_1 (SimpleRNN)            (None, None, 100)   20100       embedding_1[0][0]                \n",
      "____________________________________________________________________________________________________\n",
      "timedistributed_1 (TimeDistributed)(None, None, 127)   12827       simplernn_1[0][0]                \n",
      "____________________________________________________________________________________________________\n",
      "activation_1 (Activation)          (None, None, 127)   0           timedistributed_1[0][0]          \n",
      "====================================================================================================\n",
      "Total params: 90127\n",
      "____________________________________________________________________________________________________\n"
     ]
    }
   ],
   "source": [
    "# ARCHITECTURE, # PARAMS\n",
    "rnn.train(report_architecture=1)"
   ]
  },
  {
   "cell_type": "code",
   "execution_count": 117,
   "metadata": {
    "collapsed": false
   },
   "outputs": [
    {
     "name": "stdout",
     "output_type": "stream",
     "text": [
      "Size = 10 | Accuracy = 60.926534%\n",
      "Size = 20 | Accuracy = 60.926534%\n",
      "Size = 30 | Accuracy = 62.605169%\n",
      "Size = 40 | Accuracy = 71.169053%\n",
      "Size = 50 | Accuracy = 67.906065%\n",
      "Size = 60 | Accuracy = 68.959281%\n",
      "Size = 70 | Accuracy = 69.949857%\n",
      "Size = 80 | Accuracy = 71.245522%\n",
      "Size = 90 | Accuracy = 72.174606%\n",
      "Size = 100 | Accuracy = 76.055795%\n",
      "Size = 110 | Accuracy = 77.092476%\n",
      "Size = 120 | Accuracy = 75.127153%\n",
      "Size = 130 | Accuracy = 77.749367%\n",
      "Size = 140 | Accuracy = 79.641225%\n",
      "Size = 150 | Accuracy = 78.770861%\n",
      "Size = 160 | Accuracy = 79.396149%\n",
      "Size = 170 | Accuracy = 77.417265%\n",
      "Size = 180 | Accuracy = 79.207158%\n",
      "Size = 190 | Accuracy = 79.146846%\n",
      "Size = 200 | Accuracy = 80.069301%\n",
      "Size = 300 | Accuracy = 82.925974%\n",
      "Size = 400 | Accuracy = 85.232613%\n",
      "Size = 500 | Accuracy = 86.800227%\n",
      "Size = 600 | Accuracy = 89.623491%\n",
      "Size = 700 | Accuracy = 90.064356%\n",
      "Size = 800 | Accuracy = 90.867075%\n",
      "Size = 900 | Accuracy = 91.203954%\n",
      "Size = 1000 | Accuracy = 92.472469%\n",
      "Size = 2000 | Accuracy = 94.500038%\n",
      "Size = 3000 | Accuracy = 95.512378%\n",
      "Size = 3983 | Accuracy = 96.587269%\n",
      "CPU times: user 11min 6s, sys: 4.54 s, total: 11min 11s\n",
      "Wall time: 11min 12s\n"
     ]
    }
   ],
   "source": [
    "%%time\n",
    "rnn_accuracies = []\n",
    "for size in TRAIN_SIZES:\n",
    "    accuracy = rnn.train(TRAIN_SIZE=size)\n",
    "    rnn_accuracies.append(accuracy)\n",
    "    print \"Size = %d | Accuracy = %.6f%%\" % (size, accuracy*100)"
   ]
  },
  {
   "cell_type": "markdown",
   "metadata": {},
   "source": [
    "## III. CRF"
   ]
  },
  {
   "cell_type": "code",
   "execution_count": 13,
   "metadata": {
    "collapsed": true
   },
   "outputs": [],
   "source": [
    "import spacy\n",
    "from spacy.en import English\n",
    "from pyparsing import StringEnd, oneOf, FollowedBy, Optional, ZeroOrMore, SkipTo\n",
    "from itertools import chain\n",
    "from sklearn.metrics import classification_report, confusion_matrix\n",
    "from sklearn.preprocessing import LabelBinarizer\n",
    "import sklearn\n",
    "import pycrfsuite\n",
    "import os, cPickle, time, random\n",
    "from sklearn.metrics import accuracy_score\n",
    "from itertools import chain"
   ]
  },
  {
   "cell_type": "markdown",
   "metadata": {},
   "source": [
    "### A. Extract Info Using Spacy"
   ]
  },
  {
   "cell_type": "code",
   "execution_count": 14,
   "metadata": {
    "collapsed": true
   },
   "outputs": [],
   "source": [
    "parser = English()"
   ]
  },
  {
   "cell_type": "code",
   "execution_count": 15,
   "metadata": {
    "collapsed": false
   },
   "outputs": [],
   "source": [
    "train, valid, test, dicts = data['train'], data['valid'], data['test'], data['dicts']\n",
    "i2w = {i:w for w,i in dicts['words2idx'].iteritems()}\n",
    "i2l = {i:l for l,i in dicts['labels2idx'].iteritems()}"
   ]
  },
  {
   "cell_type": "code",
   "execution_count": 16,
   "metadata": {
    "collapsed": false
   },
   "outputs": [],
   "source": [
    "X_train = [map(i2w.get, encoded_sent) for encoded_sent in train[0]]\n",
    "X_test = [map(i2w.get, encoded_sent) for encoded_sent in test[0]]\n",
    "Y_train = [map(i2l.get, encoded_labels) for encoded_labels in train[1]]\n",
    "Y_test = [map(i2l.get, encoded_sent) for encoded_sent in test[1]]"
   ]
  },
  {
   "cell_type": "code",
   "execution_count": 17,
   "metadata": {
    "collapsed": true
   },
   "outputs": [],
   "source": [
    "def extract_info(sent): \n",
    "    \n",
    "    if type(sent)==list: sent = ' '.join(sent)\n",
    "    parsed = parser(unicode(sent))# if type(sent)==str else parser(unicode(sent))\n",
    "    pos = [token.pos_ for token in parsed]\n",
    "    ner = ['none' if token.ent_type_=='' else token.ent_type_ for token in parsed]\n",
    "    dep_rel = [token.dep_ for token in parsed]\n",
    "    dep_head = [token.head.orth_ for token in parsed]\n",
    "    \n",
    "    return (sent.split(), pos, ner, dep_rel, dep_head)\n"
   ]
  },
  {
   "cell_type": "code",
   "execution_count": 18,
   "metadata": {
    "collapsed": true
   },
   "outputs": [],
   "source": [
    "X_train_augmented = [extract_info(sent) for sent in X_train]\n",
    "X_test_augmented = [extract_info(sent) for sent in X_test]"
   ]
  },
  {
   "cell_type": "markdown",
   "metadata": {},
   "source": [
    "### B. Featurization"
   ]
  },
  {
   "cell_type": "code",
   "execution_count": 19,
   "metadata": {
    "collapsed": true
   },
   "outputs": [],
   "source": [
    "prefix = ['anti','de','dis','en','em','fore','in','im','il','ir',\n",
    "          'inter','mid','mis','non','over','pre','re','semi','sub',\n",
    "          'super','trans','un','under']\n",
    "suffix = ['able','ible','al','ial','ed','en','er','est','ful','ic',\n",
    "          'ing','ion','tion','ation','ition','ity','ty','ive','ative',\n",
    "          'itive','less','ly','ment','ness','ous','eous','ious','s',\n",
    "          'es','y','ism']"
   ]
  },
  {
   "cell_type": "code",
   "execution_count": 40,
   "metadata": {
    "collapsed": true
   },
   "outputs": [],
   "source": [
    "class Featurize:\n",
    "    \n",
    "    def __init__(self, prefix=[], suffix=[]): # lists of pfx/sfx.\n",
    "        self.prefix = prefix\n",
    "        self.suffix = suffix\n",
    "        end_of_string = StringEnd()\n",
    "        pfx_pyp_regex = oneOf(' '.join(prefix))\n",
    "        sfx_pyp_regex = oneOf(' '.join(suffix)) + FollowedBy(end_of_string)\n",
    "        self.template = (ZeroOrMore(pfx_pyp_regex)('prefix') +\n",
    "                         SkipTo(sfx_pyp_regex | end_of_string)('root') + \n",
    "                         Optional(sfx_pyp_regex)('suffix'))              \n",
    "        self.afx = lambda word: self.template.parseString(word)\n",
    "        self.feat_set = {'pfx': lambda w_idx,datum: self.afx(datum[0][w_idx]).prefix[0] \\\n",
    "                                     if self.afx(datum[0][w_idx]).prefix!='' else 'no_pfx',\n",
    "                         'sfx': lambda w_idx,datum: self.afx(datum[0][w_idx]).suffix[0] \\\n",
    "                                     if self.afx(datum[0][w_idx]).suffix!='' else 'no_sfx',\n",
    "                         'root': lambda w_idx,datum: self.afx(datum[0][w_idx]).root,\n",
    "                         'word': lambda w_idx,datum: datum[0][w_idx],\n",
    "                         'pos': lambda w_idx,datum: datum[1][w_idx],\n",
    "                         'ner': lambda w_idx,datum: datum[2][w_idx],\n",
    "                         'dep_rel': lambda w_idx,datum: datum[3][w_idx],\n",
    "                         'dep_head': lambda w_idx,datum: datum[4][w_idx]} \n",
    "            # datum: (words, pos, ner, dep_rel, dep_head)\n",
    "        \n",
    "    def word_featurize(self, datum, i, \n",
    "                       FEATURES=['pfx','sfx','root','word','pos','ner','dep_rel','dep_head']): \n",
    "        # datum: (sent, pos, ner, dep_rel, dep_head).\n",
    "        # i: index of the token processed. \n",
    "        features = []\n",
    "        for feat in FEATURES:\n",
    "            features.append(feat+'='+str(self.feat_set[feat](i,datum)))\n",
    "        if i > 0:\n",
    "            for feat in FEATURES:\n",
    "                features.append('-1'+feat+'='+str(self.feat_set[feat](i-1,datum)))\n",
    "                if i > 1:\n",
    "                    features.append('-2'+feat+'='+str(self.feat_set[feat](i-2,datum)))\n",
    "        else: features.append('BOS')\n",
    "        if i < len(datum[0])-1:\n",
    "            for feat in FEATURES:\n",
    "                features.append('+1'+feat+'='+str(str(self.feat_set[feat](i+1,datum))))\n",
    "                if i < len(datum[0])-2:\n",
    "                    features.append('+2'+feat+'='+str(str(self.feat_set[feat](i+2,datum))))\n",
    "        else: features.append('EOS')    \n",
    "        return features\n",
    "        \n",
    "    def sent_featurize(self, datum, FEATURES=['pfx','sfx','root','word','pos','ner','dep_rel','dep_head']):\n",
    "        # datum: (sent, pos, ner, dep_rel, dep_head).   \n",
    "        return [self.word_featurize(datum, i, FEATURES) for i in xrange(len(datum[0]))] "
   ]
  },
  {
   "cell_type": "code",
   "execution_count": 41,
   "metadata": {
    "collapsed": true
   },
   "outputs": [],
   "source": [
    "train = [(x_augmented,y) for x_augmented,y in zip(X_train_augmented,Y_train)]\n",
    "test = [(x_augmented,y) for x_augmented,y in zip(X_test_augmented,Y_test)]"
   ]
  },
  {
   "cell_type": "code",
   "execution_count": 42,
   "metadata": {
    "collapsed": true
   },
   "outputs": [],
   "source": [
    "class CRF:\n",
    "    \n",
    "    def __init__(self, train, test,\n",
    "                 featurizer=Featurize(prefix, suffix),\n",
    "                 FEATURES=['pfx','sfx','root','word','pos','ner','dep_rel','dep_head']):\n",
    "        self.FEATURES = FEATURES\n",
    "        self.X_train = [featurizer.sent_featurize(datum[0],FEATURES) for datum in train]\n",
    "        self.Y_train = [datum[1] for datum in train]\n",
    "        self.X_test = [featurizer.sent_featurize(datum[0],FEATURES) for datum in test]\n",
    "        self.Y_test = [datum[1] for datum in test]\n",
    "    \n",
    "    def train(self, TRAIN_SIZE=0, config={'c1': 1.0, \n",
    "                                          'c2': 1e-3, \n",
    "                                          'max_iterations': 100,\n",
    "                                          'feature.possible_transitions':True},\n",
    "                                  verbose=0):\n",
    "        crf = pycrfsuite.Trainer(verbose=verbose)    \n",
    "        assert TRAIN_SIZE != 0\n",
    "        sample_idxs = random.sample(range(len(self.X_train)), TRAIN_SIZE)\n",
    "        X = [self.X_train[k] for k in sample_idxs]\n",
    "        Y = [self.Y_train[k] for k in sample_idxs]            \n",
    "        for x,y in zip(X,Y):\n",
    "            crf.append(x,y)\n",
    "        crf.set_params(config)\n",
    "        tagger_name=time.ctime()+'crf.crfsuite' # avoid repetition\n",
    "        crf.train(tagger_name)\n",
    "        self.tagger = pycrfsuite.Tagger()\n",
    "        self.tagger.open(tagger_name)\n",
    "        \n",
    "        y_true = self.Y_test\n",
    "        y_pred = [self.tagger.tag(sent) for sent in self.X_test]\n",
    "        y_true_merged = list(chain.from_iterable(y_true))\n",
    "        y_pred_merged = list(chain.from_iterable(y_pred)) \n",
    "        accuracy = accuracy_score(y_true_merged,y_pred_merged)\n",
    "        \n",
    "        return accuracy\n",
    "        "
   ]
  },
  {
   "cell_type": "code",
   "execution_count": 43,
   "metadata": {
    "collapsed": false,
    "scrolled": true
   },
   "outputs": [
    {
     "name": "stdout",
     "output_type": "stream",
     "text": [
      "CPU times: user 1min 49s, sys: 645 ms, total: 1min 50s\n",
      "Wall time: 1min 50s\n"
     ]
    }
   ],
   "source": [
    "%%time\n",
    "crf = CRF(train, test)"
   ]
  },
  {
   "cell_type": "code",
   "execution_count": 46,
   "metadata": {
    "collapsed": false
   },
   "outputs": [],
   "source": [
    "# ARCHITECTURE, # PARAMS\n",
    "crf.train(TRAIN_SIZE=3983, config= {'c1':1.,'c2':1e-3,'max_iterations':100,'feature.possible_transitions':True}, \n",
    "          verbose=1)\n",
    "# active features at beginning: 44785\n",
    "# active features at end: 4584"
   ]
  },
  {
   "cell_type": "code",
   "execution_count": 128,
   "metadata": {
    "collapsed": false
   },
   "outputs": [
    {
     "name": "stdout",
     "output_type": "stream",
     "text": [
      "Size = 10 | Accuracy = 72.374429%\n",
      "Size = 20 | Accuracy = 75.603392%\n",
      "Size = 30 | Accuracy = 78.745379%\n",
      "Size = 40 | Accuracy = 79.712981%\n",
      "Size = 50 | Accuracy = 80.789302%\n",
      "Size = 60 | Accuracy = 81.093716%\n",
      "Size = 70 | Accuracy = 83.365949%\n",
      "Size = 80 | Accuracy = 83.333333%\n",
      "Size = 90 | Accuracy = 84.050881%\n",
      "Size = 100 | Accuracy = 84.072624%\n",
      "Size = 110 | Accuracy = 84.442270%\n",
      "Size = 120 | Accuracy = 85.736030%\n",
      "Size = 130 | Accuracy = 86.301370%\n",
      "Size = 140 | Accuracy = 86.464449%\n",
      "Size = 150 | Accuracy = 86.116547%\n",
      "Size = 160 | Accuracy = 86.703631%\n",
      "Size = 170 | Accuracy = 86.486193%\n",
      "Size = 180 | Accuracy = 86.975429%\n",
      "Size = 190 | Accuracy = 88.149598%\n",
      "Size = 200 | Accuracy = 87.953903%\n",
      "Size = 300 | Accuracy = 89.943466%\n",
      "Size = 400 | Accuracy = 90.889324%\n",
      "Size = 500 | Accuracy = 91.215482%\n",
      "Size = 600 | Accuracy = 91.933029%\n",
      "Size = 700 | Accuracy = 92.704936%\n",
      "Size = 800 | Accuracy = 92.900631%\n",
      "Size = 900 | Accuracy = 93.455099%\n",
      "Size = 1000 | Accuracy = 93.868232%\n",
      "Size = 2000 | Accuracy = 95.238095%\n",
      "Size = 3000 | Accuracy = 95.466406%\n",
      "Size = 3983 | Accuracy = 95.912155%\n",
      "CPU times: user 10min 16s, sys: 1.59 s, total: 10min 18s\n",
      "Wall time: 10min 18s\n"
     ]
    }
   ],
   "source": [
    "%%time\n",
    "crf_accuracies = []\n",
    "for size in TRAIN_SIZES:\n",
    "    accuracy = crf.train(TRAIN_SIZE=size)\n",
    "    crf_accuracies.append(accuracy)\n",
    "    print \"Size = %d | Accuracy = %.6f%%\" % (size, accuracy*100)"
   ]
  },
  {
   "cell_type": "markdown",
   "metadata": {},
   "source": [
    "## Result Comparison"
   ]
  },
  {
   "cell_type": "code",
   "execution_count": 129,
   "metadata": {
    "collapsed": true
   },
   "outputs": [],
   "source": [
    "import matplotlib.pyplot as plt\n",
    "%matplotlib inline"
   ]
  },
  {
   "cell_type": "code",
   "execution_count": 130,
   "metadata": {
    "collapsed": false
   },
   "outputs": [
    {
     "data": {
      "image/png": "[encoded data removed]",
      "text/plain": [
       "<matplotlib.figure.Figure at 0x116d21c10>"
      ]
     },
     "metadata": {},
     "output_type": "display_data"
    }
   ],
   "source": [
    "plt.figure(figsize=(20,10))\n",
    "plt.plot(rnn_accuracies)\n",
    "plt.plot(crf_accuracies)\n",
    "plt.title(\"RNN & CRF Performance Graph (nepochs=10,evaluate on full test set)\")\n",
    "plt.xlabel('Training Size')\n",
    "plt.ylabel('Accuracy')\n",
    "plt.legend(['RNN','CRF'],loc=2)\n",
    "plt.xticks(np.arange(len(TRAIN_SIZES)),TRAIN_SIZES)\n",
    "plt.show()"
   ]
  },
  {
   "cell_type": "code",
   "execution_count": 131,
   "metadata": {
    "collapsed": false,
    "scrolled": false
   },
   "outputs": [
    {
     "data": {
      "image/png": "[encoded data removed]",
      "text/plain": [
       "<matplotlib.figure.Figure at 0x115e12bd0>"
      ]
     },
     "metadata": {},
     "output_type": "display_data"
    }
   ],
   "source": [
    "plt.figure(figsize=(20,10))\n",
    "plt.plot(TRAIN_SIZES, rnn_accuracies)\n",
    "plt.plot(TRAIN_SIZES, crf_accuracies)\n",
    "plt.title(\"CRF Performance Graph with Real Spacing (nepochs=50,evaluate on full test set)\")\n",
    "plt.xlabel('Training Size')\n",
    "plt.ylabel('Accuracy')\n",
    "plt.ylim(0.5,1)\n",
    "plt.legend(['RNN','CRF'],loc=2)\n",
    "plt.show()"
   ]
  },
  {
   "cell_type": "code",
   "execution_count": null,
   "metadata": {
    "collapsed": true
   },
   "outputs": [],
   "source": []
  },
  {
   "cell_type": "code",
   "execution_count": 132,
   "metadata": {
    "collapsed": false
   },
   "outputs": [
    {
     "data": {
      "text/plain": [
       "[['pfx=no_pfx',\n",
       "  'sfx=no_sfx',\n",
       "  'root=what',\n",
       "  'word=what',\n",
       "  'pos=ADJ',\n",
       "  'ner=none',\n",
       "  'dep_rel=det',\n",
       "  'dep_head=flights',\n",
       "  'BOS',\n",
       "  '+1pfx=no_pfx',\n",
       "  '+2pfx=no_pfx',\n",
       "  '+1sfx=s',\n",
       "  '+2sfx=no_sfx',\n",
       "  '+1root=flight',\n",
       "  '+2root=leave',\n",
       "  '+1word=flights',\n",
       "  '+2word=leave',\n",
       "  '+1pos=NOUN',\n",
       "  '+2pos=VERB',\n",
       "  '+1ner=none',\n",
       "  '+2ner=none',\n",
       "  '+1dep_rel=nsubj',\n",
       "  '+2dep_rel=ROOT',\n",
       "  '+1dep_head=leave',\n",
       "  '+2dep_head=leave'],\n",
       " ['pfx=no_pfx',\n",
       "  'sfx=s',\n",
       "  'root=flight',\n",
       "  'word=flights',\n",
       "  'pos=NOUN',\n",
       "  'ner=none',\n",
       "  'dep_rel=nsubj',\n",
       "  'dep_head=leave',\n",
       "  '-1pfx=no_pfx',\n",
       "  '-1sfx=no_sfx',\n",
       "  '-1root=what',\n",
       "  '-1word=what',\n",
       "  '-1pos=ADJ',\n",
       "  '-1ner=none',\n",
       "  '-1dep_rel=det',\n",
       "  '-1dep_head=flights',\n",
       "  '+1pfx=no_pfx',\n",
       "  '+2pfx=no_pfx',\n",
       "  '+1sfx=no_sfx',\n",
       "  '+2sfx=no_sfx',\n",
       "  '+1root=leave',\n",
       "  '+2root=atlanta',\n",
       "  '+1word=leave',\n",
       "  '+2word=atlanta',\n",
       "  '+1pos=VERB',\n",
       "  '+2pos=ADV',\n",
       "  '+1ner=none',\n",
       "  '+2ner=none',\n",
       "  '+1dep_rel=ROOT',\n",
       "  '+2dep_rel=advmod',\n",
       "  '+1dep_head=leave',\n",
       "  '+2dep_head=at'],\n",
       " ['pfx=no_pfx',\n",
       "  'sfx=no_sfx',\n",
       "  'root=leave',\n",
       "  'word=leave',\n",
       "  'pos=VERB',\n",
       "  'ner=none',\n",
       "  'dep_rel=ROOT',\n",
       "  'dep_head=leave',\n",
       "  '-1pfx=no_pfx',\n",
       "  '-2pfx=no_pfx',\n",
       "  '-1sfx=s',\n",
       "  '-2sfx=no_sfx',\n",
       "  '-1root=flight',\n",
       "  '-2root=what',\n",
       "  '-1word=flights',\n",
       "  '-2word=what',\n",
       "  '-1pos=NOUN',\n",
       "  '-2pos=ADJ',\n",
       "  '-1ner=none',\n",
       "  '-2ner=none',\n",
       "  '-1dep_rel=nsubj',\n",
       "  '-2dep_rel=det',\n",
       "  '-1dep_head=leave',\n",
       "  '-2dep_head=flights',\n",
       "  '+1pfx=no_pfx',\n",
       "  '+2pfx=no_pfx',\n",
       "  '+1sfx=no_sfx',\n",
       "  '+2sfx=no_sfx',\n",
       "  '+1root=atlanta',\n",
       "  '+2root=at',\n",
       "  '+1word=atlanta',\n",
       "  '+2word=at',\n",
       "  '+1pos=ADV',\n",
       "  '+2pos=ADP',\n",
       "  '+1ner=none',\n",
       "  '+2ner=none',\n",
       "  '+1dep_rel=advmod',\n",
       "  '+2dep_rel=prep',\n",
       "  '+1dep_head=at',\n",
       "  '+2dep_head=leave'],\n",
       " ['pfx=no_pfx',\n",
       "  'sfx=no_sfx',\n",
       "  'root=atlanta',\n",
       "  'word=atlanta',\n",
       "  'pos=ADV',\n",
       "  'ner=none',\n",
       "  'dep_rel=advmod',\n",
       "  'dep_head=at',\n",
       "  '-1pfx=no_pfx',\n",
       "  '-2pfx=no_pfx',\n",
       "  '-1sfx=no_sfx',\n",
       "  '-2sfx=s',\n",
       "  '-1root=leave',\n",
       "  '-2root=flight',\n",
       "  '-1word=leave',\n",
       "  '-2word=flights',\n",
       "  '-1pos=VERB',\n",
       "  '-2pos=NOUN',\n",
       "  '-1ner=none',\n",
       "  '-2ner=none',\n",
       "  '-1dep_rel=ROOT',\n",
       "  '-2dep_rel=nsubj',\n",
       "  '-1dep_head=leave',\n",
       "  '-2dep_head=leave',\n",
       "  '+1pfx=no_pfx',\n",
       "  '+2pfx=no_pfx',\n",
       "  '+1sfx=no_sfx',\n",
       "  '+2sfx=no_sfx',\n",
       "  '+1root=at',\n",
       "  '+2root=about',\n",
       "  '+1word=at',\n",
       "  '+2word=about',\n",
       "  '+1pos=ADP',\n",
       "  '+2pos=ADP',\n",
       "  '+1ner=none',\n",
       "  '+2ner=none',\n",
       "  '+1dep_rel=prep',\n",
       "  '+2dep_rel=nmod',\n",
       "  '+1dep_head=leave',\n",
       "  '+2dep_head=DIGIT'],\n",
       " ['pfx=no_pfx',\n",
       "  'sfx=no_sfx',\n",
       "  'root=at',\n",
       "  'word=at',\n",
       "  'pos=ADP',\n",
       "  'ner=none',\n",
       "  'dep_rel=prep',\n",
       "  'dep_head=leave',\n",
       "  '-1pfx=no_pfx',\n",
       "  '-2pfx=no_pfx',\n",
       "  '-1sfx=no_sfx',\n",
       "  '-2sfx=no_sfx',\n",
       "  '-1root=atlanta',\n",
       "  '-2root=leave',\n",
       "  '-1word=atlanta',\n",
       "  '-2word=leave',\n",
       "  '-1pos=ADV',\n",
       "  '-2pos=VERB',\n",
       "  '-1ner=none',\n",
       "  '-2ner=none',\n",
       "  '-1dep_rel=advmod',\n",
       "  '-2dep_rel=ROOT',\n",
       "  '-1dep_head=at',\n",
       "  '-2dep_head=leave',\n",
       "  '+1pfx=no_pfx',\n",
       "  '+2pfx=no_pfx',\n",
       "  '+1sfx=no_sfx',\n",
       "  '+2sfx=no_sfx',\n",
       "  '+1root=about',\n",
       "  '+2root=DIGIT',\n",
       "  '+1word=about',\n",
       "  '+2word=DIGIT',\n",
       "  '+1pos=ADP',\n",
       "  '+2pos=PROPN',\n",
       "  '+1ner=none',\n",
       "  '+2ner=ORG',\n",
       "  '+1dep_rel=nmod',\n",
       "  '+2dep_rel=pobj',\n",
       "  '+1dep_head=DIGIT',\n",
       "  '+2dep_head=at'],\n",
       " ['pfx=no_pfx',\n",
       "  'sfx=no_sfx',\n",
       "  'root=about',\n",
       "  'word=about',\n",
       "  'pos=ADP',\n",
       "  'ner=none',\n",
       "  'dep_rel=nmod',\n",
       "  'dep_head=DIGIT',\n",
       "  '-1pfx=no_pfx',\n",
       "  '-2pfx=no_pfx',\n",
       "  '-1sfx=no_sfx',\n",
       "  '-2sfx=no_sfx',\n",
       "  '-1root=at',\n",
       "  '-2root=atlanta',\n",
       "  '-1word=at',\n",
       "  '-2word=atlanta',\n",
       "  '-1pos=ADP',\n",
       "  '-2pos=ADV',\n",
       "  '-1ner=none',\n",
       "  '-2ner=none',\n",
       "  '-1dep_rel=prep',\n",
       "  '-2dep_rel=advmod',\n",
       "  '-1dep_head=leave',\n",
       "  '-2dep_head=at',\n",
       "  '+1pfx=no_pfx',\n",
       "  '+2pfx=in',\n",
       "  '+1sfx=no_sfx',\n",
       "  '+2sfx=no_sfx',\n",
       "  '+1root=DIGIT',\n",
       "  '+2root=',\n",
       "  '+1word=DIGIT',\n",
       "  '+2word=in',\n",
       "  '+1pos=PROPN',\n",
       "  '+2pos=ADP',\n",
       "  '+1ner=ORG',\n",
       "  '+2ner=none',\n",
       "  '+1dep_rel=pobj',\n",
       "  '+2dep_rel=prep',\n",
       "  '+1dep_head=at',\n",
       "  '+2dep_head=DIGIT'],\n",
       " ['pfx=no_pfx',\n",
       "  'sfx=no_sfx',\n",
       "  'root=DIGIT',\n",
       "  'word=DIGIT',\n",
       "  'pos=PROPN',\n",
       "  'ner=ORG',\n",
       "  'dep_rel=pobj',\n",
       "  'dep_head=at',\n",
       "  '-1pfx=no_pfx',\n",
       "  '-2pfx=no_pfx',\n",
       "  '-1sfx=no_sfx',\n",
       "  '-2sfx=no_sfx',\n",
       "  '-1root=about',\n",
       "  '-2root=at',\n",
       "  '-1word=about',\n",
       "  '-2word=at',\n",
       "  '-1pos=ADP',\n",
       "  '-2pos=ADP',\n",
       "  '-1ner=none',\n",
       "  '-2ner=none',\n",
       "  '-1dep_rel=nmod',\n",
       "  '-2dep_rel=prep',\n",
       "  '-1dep_head=DIGIT',\n",
       "  '-2dep_head=leave',\n",
       "  '+1pfx=in',\n",
       "  '+2pfx=no_pfx',\n",
       "  '+1sfx=no_sfx',\n",
       "  '+2sfx=no_sfx',\n",
       "  '+1root=',\n",
       "  '+2root=the',\n",
       "  '+1word=in',\n",
       "  '+2word=the',\n",
       "  '+1pos=ADP',\n",
       "  '+2pos=DET',\n",
       "  '+1ner=none',\n",
       "  '+2ner=none',\n",
       "  '+1dep_rel=prep',\n",
       "  '+2dep_rel=det',\n",
       "  '+1dep_head=DIGIT',\n",
       "  '+2dep_head=afternoon'],\n",
       " ['pfx=in',\n",
       "  'sfx=no_sfx',\n",
       "  'root=',\n",
       "  'word=in',\n",
       "  'pos=ADP',\n",
       "  'ner=none',\n",
       "  'dep_rel=prep',\n",
       "  'dep_head=DIGIT',\n",
       "  '-1pfx=no_pfx',\n",
       "  '-2pfx=no_pfx',\n",
       "  '-1sfx=no_sfx',\n",
       "  '-2sfx=no_sfx',\n",
       "  '-1root=DIGIT',\n",
       "  '-2root=about',\n",
       "  '-1word=DIGIT',\n",
       "  '-2word=about',\n",
       "  '-1pos=PROPN',\n",
       "  '-2pos=ADP',\n",
       "  '-1ner=ORG',\n",
       "  '-2ner=none',\n",
       "  '-1dep_rel=pobj',\n",
       "  '-2dep_rel=nmod',\n",
       "  '-1dep_head=at',\n",
       "  '-2dep_head=DIGIT',\n",
       "  '+1pfx=no_pfx',\n",
       "  '+2pfx=no_pfx',\n",
       "  '+1sfx=no_sfx',\n",
       "  '+2sfx=no_sfx',\n",
       "  '+1root=the',\n",
       "  '+2root=afternoon',\n",
       "  '+1word=the',\n",
       "  '+2word=afternoon',\n",
       "  '+1pos=DET',\n",
       "  '+2pos=NOUN',\n",
       "  '+1ner=none',\n",
       "  '+2ner=TIME',\n",
       "  '+1dep_rel=det',\n",
       "  '+2dep_rel=pobj',\n",
       "  '+1dep_head=afternoon',\n",
       "  '+2dep_head=in'],\n",
       " ['pfx=no_pfx',\n",
       "  'sfx=no_sfx',\n",
       "  'root=the',\n",
       "  'word=the',\n",
       "  'pos=DET',\n",
       "  'ner=none',\n",
       "  'dep_rel=det',\n",
       "  'dep_head=afternoon',\n",
       "  '-1pfx=in',\n",
       "  '-2pfx=no_pfx',\n",
       "  '-1sfx=no_sfx',\n",
       "  '-2sfx=no_sfx',\n",
       "  '-1root=',\n",
       "  '-2root=DIGIT',\n",
       "  '-1word=in',\n",
       "  '-2word=DIGIT',\n",
       "  '-1pos=ADP',\n",
       "  '-2pos=PROPN',\n",
       "  '-1ner=none',\n",
       "  '-2ner=ORG',\n",
       "  '-1dep_rel=prep',\n",
       "  '-2dep_rel=pobj',\n",
       "  '-1dep_head=DIGIT',\n",
       "  '-2dep_head=at',\n",
       "  '+1pfx=no_pfx',\n",
       "  '+2pfx=no_pfx',\n",
       "  '+1sfx=no_sfx',\n",
       "  '+2sfx=no_sfx',\n",
       "  '+1root=afternoon',\n",
       "  '+2root=and',\n",
       "  '+1word=afternoon',\n",
       "  '+2word=and',\n",
       "  '+1pos=NOUN',\n",
       "  '+2pos=CONJ',\n",
       "  '+1ner=TIME',\n",
       "  '+2ner=none',\n",
       "  '+1dep_rel=pobj',\n",
       "  '+2dep_rel=cc',\n",
       "  '+1dep_head=in',\n",
       "  '+2dep_head=leave'],\n",
       " ['pfx=no_pfx',\n",
       "  'sfx=no_sfx',\n",
       "  'root=afternoon',\n",
       "  'word=afternoon',\n",
       "  'pos=NOUN',\n",
       "  'ner=TIME',\n",
       "  'dep_rel=pobj',\n",
       "  'dep_head=in',\n",
       "  '-1pfx=no_pfx',\n",
       "  '-2pfx=in',\n",
       "  '-1sfx=no_sfx',\n",
       "  '-2sfx=no_sfx',\n",
       "  '-1root=the',\n",
       "  '-2root=',\n",
       "  '-1word=the',\n",
       "  '-2word=in',\n",
       "  '-1pos=DET',\n",
       "  '-2pos=ADP',\n",
       "  '-1ner=none',\n",
       "  '-2ner=none',\n",
       "  '-1dep_rel=det',\n",
       "  '-2dep_rel=prep',\n",
       "  '-1dep_head=afternoon',\n",
       "  '-2dep_head=DIGIT',\n",
       "  '+1pfx=no_pfx',\n",
       "  '+2pfx=no_pfx',\n",
       "  '+1sfx=no_sfx',\n",
       "  '+2sfx=ive',\n",
       "  '+1root=and',\n",
       "  '+2root=arr',\n",
       "  '+1word=and',\n",
       "  '+2word=arrive',\n",
       "  '+1pos=CONJ',\n",
       "  '+2pos=VERB',\n",
       "  '+1ner=none',\n",
       "  '+2ner=none',\n",
       "  '+1dep_rel=cc',\n",
       "  '+2dep_rel=conj',\n",
       "  '+1dep_head=leave',\n",
       "  '+2dep_head=leave'],\n",
       " ['pfx=no_pfx',\n",
       "  'sfx=no_sfx',\n",
       "  'root=and',\n",
       "  'word=and',\n",
       "  'pos=CONJ',\n",
       "  'ner=none',\n",
       "  'dep_rel=cc',\n",
       "  'dep_head=leave',\n",
       "  '-1pfx=no_pfx',\n",
       "  '-2pfx=no_pfx',\n",
       "  '-1sfx=no_sfx',\n",
       "  '-2sfx=no_sfx',\n",
       "  '-1root=afternoon',\n",
       "  '-2root=the',\n",
       "  '-1word=afternoon',\n",
       "  '-2word=the',\n",
       "  '-1pos=NOUN',\n",
       "  '-2pos=DET',\n",
       "  '-1ner=TIME',\n",
       "  '-2ner=none',\n",
       "  '-1dep_rel=pobj',\n",
       "  '-2dep_rel=det',\n",
       "  '-1dep_head=in',\n",
       "  '-2dep_head=afternoon',\n",
       "  '+1pfx=no_pfx',\n",
       "  '+2pfx=in',\n",
       "  '+1sfx=ive',\n",
       "  '+2sfx=no_sfx',\n",
       "  '+1root=arr',\n",
       "  '+2root=',\n",
       "  '+1word=arrive',\n",
       "  '+2word=in',\n",
       "  '+1pos=VERB',\n",
       "  '+2pos=ADP',\n",
       "  '+1ner=none',\n",
       "  '+2ner=none',\n",
       "  '+1dep_rel=conj',\n",
       "  '+2dep_rel=prep',\n",
       "  '+1dep_head=leave',\n",
       "  '+2dep_head=arrive'],\n",
       " ['pfx=no_pfx',\n",
       "  'sfx=ive',\n",
       "  'root=arr',\n",
       "  'word=arrive',\n",
       "  'pos=VERB',\n",
       "  'ner=none',\n",
       "  'dep_rel=conj',\n",
       "  'dep_head=leave',\n",
       "  '-1pfx=no_pfx',\n",
       "  '-2pfx=no_pfx',\n",
       "  '-1sfx=no_sfx',\n",
       "  '-2sfx=no_sfx',\n",
       "  '-1root=and',\n",
       "  '-2root=afternoon',\n",
       "  '-1word=and',\n",
       "  '-2word=afternoon',\n",
       "  '-1pos=CONJ',\n",
       "  '-2pos=NOUN',\n",
       "  '-1ner=none',\n",
       "  '-2ner=TIME',\n",
       "  '-1dep_rel=cc',\n",
       "  '-2dep_rel=pobj',\n",
       "  '-1dep_head=leave',\n",
       "  '-2dep_head=in',\n",
       "  '+1pfx=in',\n",
       "  '+2pfx=no_pfx',\n",
       "  '+1sfx=no_sfx',\n",
       "  '+2sfx=no_sfx',\n",
       "  '+1root=',\n",
       "  '+2root=san',\n",
       "  '+1word=in',\n",
       "  '+2word=san',\n",
       "  '+1pos=ADP',\n",
       "  '+2pos=PROPN',\n",
       "  '+1ner=none',\n",
       "  '+2ner=none',\n",
       "  '+1dep_rel=prep',\n",
       "  '+2dep_rel=compound',\n",
       "  '+1dep_head=arrive',\n",
       "  '+2dep_head=francisco'],\n",
       " ['pfx=in',\n",
       "  'sfx=no_sfx',\n",
       "  'root=',\n",
       "  'word=in',\n",
       "  'pos=ADP',\n",
       "  'ner=none',\n",
       "  'dep_rel=prep',\n",
       "  'dep_head=arrive',\n",
       "  '-1pfx=no_pfx',\n",
       "  '-2pfx=no_pfx',\n",
       "  '-1sfx=ive',\n",
       "  '-2sfx=no_sfx',\n",
       "  '-1root=arr',\n",
       "  '-2root=and',\n",
       "  '-1word=arrive',\n",
       "  '-2word=and',\n",
       "  '-1pos=VERB',\n",
       "  '-2pos=CONJ',\n",
       "  '-1ner=none',\n",
       "  '-2ner=none',\n",
       "  '-1dep_rel=conj',\n",
       "  '-2dep_rel=cc',\n",
       "  '-1dep_head=leave',\n",
       "  '-2dep_head=leave',\n",
       "  '+1pfx=no_pfx',\n",
       "  '+2pfx=no_pfx',\n",
       "  '+1sfx=no_sfx',\n",
       "  '+2sfx=no_sfx',\n",
       "  '+1root=san',\n",
       "  '+2root=francisco',\n",
       "  '+1word=san',\n",
       "  '+2word=francisco',\n",
       "  '+1pos=PROPN',\n",
       "  '+2pos=NOUN',\n",
       "  '+1ner=none',\n",
       "  '+2ner=none',\n",
       "  '+1dep_rel=compound',\n",
       "  '+2dep_rel=pobj',\n",
       "  '+1dep_head=francisco',\n",
       "  '+2dep_head=in'],\n",
       " ['pfx=no_pfx',\n",
       "  'sfx=no_sfx',\n",
       "  'root=san',\n",
       "  'word=san',\n",
       "  'pos=PROPN',\n",
       "  'ner=none',\n",
       "  'dep_rel=compound',\n",
       "  'dep_head=francisco',\n",
       "  '-1pfx=in',\n",
       "  '-2pfx=no_pfx',\n",
       "  '-1sfx=no_sfx',\n",
       "  '-2sfx=ive',\n",
       "  '-1root=',\n",
       "  '-2root=arr',\n",
       "  '-1word=in',\n",
       "  '-2word=arrive',\n",
       "  '-1pos=ADP',\n",
       "  '-2pos=VERB',\n",
       "  '-1ner=none',\n",
       "  '-2ner=none',\n",
       "  '-1dep_rel=prep',\n",
       "  '-2dep_rel=conj',\n",
       "  '-1dep_head=arrive',\n",
       "  '-2dep_head=leave',\n",
       "  '+1pfx=no_pfx',\n",
       "  '+1sfx=no_sfx',\n",
       "  '+1root=francisco',\n",
       "  '+1word=francisco',\n",
       "  '+1pos=NOUN',\n",
       "  '+1ner=none',\n",
       "  '+1dep_rel=pobj',\n",
       "  '+1dep_head=in'],\n",
       " ['pfx=no_pfx',\n",
       "  'sfx=no_sfx',\n",
       "  'root=francisco',\n",
       "  'word=francisco',\n",
       "  'pos=NOUN',\n",
       "  'ner=none',\n",
       "  'dep_rel=pobj',\n",
       "  'dep_head=in',\n",
       "  '-1pfx=no_pfx',\n",
       "  '-2pfx=in',\n",
       "  '-1sfx=no_sfx',\n",
       "  '-2sfx=no_sfx',\n",
       "  '-1root=san',\n",
       "  '-2root=',\n",
       "  '-1word=san',\n",
       "  '-2word=in',\n",
       "  '-1pos=PROPN',\n",
       "  '-2pos=ADP',\n",
       "  '-1ner=none',\n",
       "  '-2ner=none',\n",
       "  '-1dep_rel=compound',\n",
       "  '-2dep_rel=prep',\n",
       "  '-1dep_head=francisco',\n",
       "  '-2dep_head=arrive',\n",
       "  'EOS']]"
      ]
     },
     "execution_count": 132,
     "metadata": {},
     "output_type": "execute_result"
    }
   ],
   "source": [
    "crf.X_train[0]"
   ]
  },
  {
   "cell_type": "code",
   "execution_count": 133,
   "metadata": {
    "collapsed": false
   },
   "outputs": [
    {
     "data": {
      "text/plain": [
       "['O',\n",
       " 'O',\n",
       " 'O',\n",
       " 'B-fromloc.city_name',\n",
       " 'O',\n",
       " 'B-depart_time.time_relative',\n",
       " 'B-depart_time.time',\n",
       " 'O',\n",
       " 'O',\n",
       " 'B-depart_time.period_of_day',\n",
       " 'O',\n",
       " 'O',\n",
       " 'O',\n",
       " 'B-toloc.city_name',\n",
       " 'I-toloc.city_name']"
      ]
     },
     "execution_count": 133,
     "metadata": {},
     "output_type": "execute_result"
    }
   ],
   "source": [
    "crf.Y_train[0]"
   ]
  },
  {
   "cell_type": "code",
   "execution_count": null,
   "metadata": {
    "collapsed": true
   },
   "outputs": [],
   "source": []
  }
 ],
 "metadata": {
  "kernelspec": {
   "display_name": "Python 2",
   "language": "python",
   "name": "python2"
  },
  "language_info": {
   "codemirror_mode": {
    "name": "ipython",
    "version": 2
   },
   "file_extension": ".py",
   "mimetype": "text/x-python",
   "name": "python",
   "nbconvert_exporter": "python",
   "pygments_lexer": "ipython2",
   "version": "2.7.11"
  }
 },
 "nbformat": 4,
 "nbformat_minor": 0
}
