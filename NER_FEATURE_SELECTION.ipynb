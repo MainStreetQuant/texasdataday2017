{
 "cells": [
  {
   "cell_type": "markdown",
   "metadata": {},
   "source": [
    "## Contents\n",
    "\n",
    "* Load Data\n",
    "* Shot-In-The-Dark Featurization \n",
    "* Model: CRF\n",
    "* Selectional Preference Strength (SPS)\n",
    "* Selectional Association Strength (SAS)"
   ]
  },
  {
   "cell_type": "markdown",
   "metadata": {},
   "source": [
    "## I. Load Data"
   ]
  },
  {
   "cell_type": "markdown",
   "metadata": {},
   "source": [
    "### A. Load Raw Data"
   ]
  },
  {
   "cell_type": "code",
   "execution_count": 1,
   "metadata": {
    "collapsed": true
   },
   "outputs": [],
   "source": [
    "import pickle"
   ]
  },
  {
   "cell_type": "code",
   "execution_count": 2,
   "metadata": {
    "collapsed": true
   },
   "outputs": [],
   "source": [
    "path = \"/Users/jacobsw/Desktop/WORK/OJO/NER_PRESENTATION/DATA/atis.pkl\""
   ]
  },
  {
   "cell_type": "code",
   "execution_count": 44,
   "metadata": {
    "collapsed": true
   },
   "outputs": [],
   "source": [
    "def load_atis(path):\n",
    "    \n",
    "    with open(path, 'rb') as f:\n",
    "        train, valid, test, dicts = pickle.load(f)\n",
    "    \n",
    "    train = (train[0],train[2]) # 0: encoded words; 1: encoded labels.\n",
    "    valid = (valid[0],valid[2])\n",
    "    test = (test[0],test[2])\n",
    "\n",
    "    return {'train':train, 'valid':valid, 'test':test, 'dicts':dicts}"
   ]
  },
  {
   "cell_type": "code",
   "execution_count": 45,
   "metadata": {
    "collapsed": true
   },
   "outputs": [],
   "source": [
    "data = load_atis(path)"
   ]
  },
  {
   "cell_type": "code",
   "execution_count": 46,
   "metadata": {
    "collapsed": true
   },
   "outputs": [],
   "source": [
    "train, valid, test, dicts = data['train'], data['valid'], data['test'], data['dicts']\n",
    "i2w = {i:w for w,i in dicts['words2idx'].iteritems()}\n",
    "i2l = {i:l for l,i in dicts['labels2idx'].iteritems()}"
   ]
  },
  {
   "cell_type": "code",
   "execution_count": 47,
   "metadata": {
    "collapsed": true
   },
   "outputs": [],
   "source": [
    "X_train = [map(i2w.get, encoded_sent) for encoded_sent in train[0]]\n",
    "X_test = [map(i2w.get, encoded_sent) for encoded_sent in test[0]]\n",
    "Y_train = [map(i2l.get, encoded_labels) for encoded_labels in train[1]]\n",
    "Y_test = [map(i2l.get, encoded_sent) for encoded_sent in test[1]]"
   ]
  },
  {
   "cell_type": "markdown",
   "metadata": {},
   "source": [
    "### B. Data Augmentation"
   ]
  },
  {
   "cell_type": "code",
   "execution_count": 50,
   "metadata": {
    "collapsed": true
   },
   "outputs": [],
   "source": [
    "from spacy.en import English"
   ]
  },
  {
   "cell_type": "code",
   "execution_count": 7,
   "metadata": {
    "collapsed": true
   },
   "outputs": [],
   "source": [
    "parser = English()\n",
    "\n",
    "def extract_info(sent): \n",
    "    \n",
    "    if type(sent)==list: sent = ' '.join(sent)\n",
    "    parsed = parser(unicode(sent))# if type(sent)==str else parser(unicode(sent))\n",
    "    pos = [token.pos_ for token in parsed]\n",
    "    ner = ['none' if token.ent_type_=='' else token.ent_type_ for token in parsed]\n",
    "    dep_rel = [token.dep_ for token in parsed]\n",
    "    dep_head = [token.head.orth_ for token in parsed]\n",
    "    \n",
    "    return (sent.split(), pos, ner, dep_rel, dep_head)\n"
   ]
  },
  {
   "cell_type": "code",
   "execution_count": 51,
   "metadata": {
    "collapsed": true
   },
   "outputs": [],
   "source": [
    "X_train_augmented = [extract_info(sent) for sent in X_train]\n",
    "X_test_augmented = [extract_info(sent) for sent in X_test]"
   ]
  },
  {
   "cell_type": "code",
   "execution_count": 52,
   "metadata": {
    "collapsed": true
   },
   "outputs": [],
   "source": [
    "train = [(x_augmented,y) for x_augmented,y in zip(X_train_augmented,Y_train)]\n",
    "test = [(x_augmented,y) for x_augmented,y in zip(X_test_augmented,Y_test)]"
   ]
  },
  {
   "cell_type": "markdown",
   "metadata": {},
   "source": [
    "## II. Shot-In-The-Dark Featurization"
   ]
  },
  {
   "cell_type": "code",
   "execution_count": 53,
   "metadata": {
    "collapsed": true
   },
   "outputs": [],
   "source": [
    "from pyparsing import StringEnd, oneOf, FollowedBy, Optional, ZeroOrMore, SkipTo"
   ]
  },
  {
   "cell_type": "code",
   "execution_count": 54,
   "metadata": {
    "collapsed": true
   },
   "outputs": [],
   "source": [
    "prefix = ['anti','de','dis','en','em','fore','in','im','il','ir',\n",
    "          'inter','mid','mis','non','over','pre','re','semi','sub',\n",
    "          'super','trans','un','under']\n",
    "suffix = ['able','ible','al','ial','ed','en','er','est','ful','ic',\n",
    "          'ing','ion','tion','ation','ition','ity','ty','ive','ative',\n",
    "          'itive','less','ly','ment','ness','ous','eous','ious','s',\n",
    "          'es','y','ism']"
   ]
  },
  {
   "cell_type": "code",
   "execution_count": 55,
   "metadata": {
    "collapsed": true
   },
   "outputs": [],
   "source": [
    "class FeatureExtractor: # for SPS,SAS\n",
    "    \n",
    "    def __init__(self, prefix=[], suffix=[]): # lists of pfx/sfx.\n",
    "        self.prefix = prefix\n",
    "        self.suffix = suffix\n",
    "        end_of_string = StringEnd()\n",
    "        pfx_pyp_regex = oneOf(' '.join(prefix))\n",
    "        sfx_pyp_regex = oneOf(' '.join(suffix)) + FollowedBy(end_of_string)\n",
    "        self.template = (ZeroOrMore(pfx_pyp_regex)('prefix') +\n",
    "                         SkipTo(sfx_pyp_regex | end_of_string)('root') + \n",
    "                         Optional(sfx_pyp_regex)('suffix'))              \n",
    "        self.afx = lambda word: self.template.parseString(word)\n",
    "        self.feat_set = {'pfx': lambda w_idx,datum: self.afx(datum[0][w_idx]).prefix[0] \\\n",
    "                                     if self.afx(datum[0][w_idx]).prefix!='' else 'no_pfx',\n",
    "                         'sfx': lambda w_idx,datum: self.afx(datum[0][w_idx]).suffix[0] \\\n",
    "                                     if self.afx(datum[0][w_idx]).suffix!='' else 'no_sfx',\n",
    "                         'root': lambda w_idx,datum: self.afx(datum[0][w_idx]).root,\n",
    "                         'word': lambda w_idx,datum: datum[0][w_idx],\n",
    "                         'pos': lambda w_idx,datum: datum[1][w_idx],\n",
    "                         'ner': lambda w_idx,datum: datum[2][w_idx],\n",
    "                         'dep_rel': lambda w_idx,datum: datum[3][w_idx],\n",
    "                         'dep_head': lambda w_idx,datum: datum[4][w_idx]} \n",
    "            # datum: (words, pos, ner, dep_rel, dep_head)\n",
    "        \n",
    "    def get_feature(self, w_idx, (datum,labels), feature='pfx'):\n",
    "        return (labels[w_idx], self.feat_set[feature](w_idx, datum))\n"
   ]
  },
  {
   "cell_type": "code",
   "execution_count": 56,
   "metadata": {
    "collapsed": true
   },
   "outputs": [],
   "source": [
    "class Featurize: # for CRF\n",
    "    \n",
    "    def __init__(self, prefix=[], suffix=[]): # lists of pfx/sfx.\n",
    "        self.prefix = prefix\n",
    "        self.suffix = suffix\n",
    "        end_of_string = StringEnd()\n",
    "        pfx_pyp_regex = oneOf(' '.join(prefix))\n",
    "        sfx_pyp_regex = oneOf(' '.join(suffix)) + FollowedBy(end_of_string)\n",
    "        self.template = (ZeroOrMore(pfx_pyp_regex)('prefix') +\n",
    "                         SkipTo(sfx_pyp_regex | end_of_string)('root') + \n",
    "                         Optional(sfx_pyp_regex)('suffix'))              \n",
    "        self.afx = lambda word: self.template.parseString(word)\n",
    "        self.feat_set = {'pfx': lambda w_idx,datum: self.afx(datum[0][w_idx]).prefix[0] \\\n",
    "                                     if self.afx(datum[0][w_idx]).prefix!='' else 'no_pfx',\n",
    "                         'sfx': lambda w_idx,datum: self.afx(datum[0][w_idx]).suffix[0] \\\n",
    "                                     if self.afx(datum[0][w_idx]).suffix!='' else 'no_sfx',\n",
    "                         'root': lambda w_idx,datum: self.afx(datum[0][w_idx]).root,\n",
    "                         'word': lambda w_idx,datum: datum[0][w_idx],\n",
    "                         'pos': lambda w_idx,datum: datum[1][w_idx],\n",
    "                         'ner': lambda w_idx,datum: datum[2][w_idx],\n",
    "                         'dep_rel': lambda w_idx,datum: datum[3][w_idx],\n",
    "                         'dep_head': lambda w_idx,datum: datum[4][w_idx]} \n",
    "            # datum: (words, pos, ner, dep_rel, dep_head)\n",
    "        \n",
    "    def word_featurize(self, datum, i, \n",
    "                       FEATURES=['pfx','sfx','root','word','pos','ner','dep_rel','dep_head']): \n",
    "        # datum: (sent, pos, ner, dep_rel, dep_head).\n",
    "        # i: index of the token processed. \n",
    "        features = []\n",
    "        for feat in FEATURES:\n",
    "            features.append(feat+'='+str(self.feat_set[feat](i,datum)))\n",
    "        if i > 0:\n",
    "            for feat in FEATURES:\n",
    "                features.append('-1'+feat+'='+str(self.feat_set[feat](i-1,datum)))\n",
    "                if i > 1:\n",
    "                    features.append('-2'+feat+'='+str(self.feat_set[feat](i-2,datum)))\n",
    "        else: features.append('BOS')\n",
    "        if i < len(datum[0])-1:\n",
    "            for feat in FEATURES:\n",
    "                features.append('+1'+feat+'='+str(str(self.feat_set[feat](i+1,datum))))\n",
    "                if i < len(datum[0])-2:\n",
    "                    features.append('+2'+feat+'='+str(str(self.feat_set[feat](i+2,datum))))\n",
    "        else: features.append('EOS')    \n",
    "        return features\n",
    "        \n",
    "    def sent_featurize(self, datum, FEATURES=['pfx','sfx','root','word','pos','ner','dep_rel','dep_head']):\n",
    "        # datum: (sent, pos, ner, dep_rel, dep_head).   \n",
    "        return [self.word_featurize(datum, i, FEATURES) for i in xrange(len(datum[0]))] "
   ]
  },
  {
   "cell_type": "code",
   "execution_count": null,
   "metadata": {
    "collapsed": true
   },
   "outputs": [],
   "source": []
  },
  {
   "cell_type": "markdown",
   "metadata": {},
   "source": [
    "## III. Model: CRF"
   ]
  },
  {
   "cell_type": "code",
   "execution_count": 57,
   "metadata": {
    "collapsed": true
   },
   "outputs": [],
   "source": [
    "from itertools import chain\n",
    "from sklearn.metrics import classification_report\n",
    "from sklearn.preprocessing import LabelBinarizer\n",
    "import sklearn\n",
    "import pycrfsuite\n",
    "import time, random\n",
    "from sklearn.metrics import accuracy_score"
   ]
  },
  {
   "cell_type": "code",
   "execution_count": 58,
   "metadata": {
    "collapsed": true
   },
   "outputs": [],
   "source": [
    "class CRF:\n",
    "    \n",
    "    def __init__(self, train, test,\n",
    "                 featurizer=Featurize(prefix, suffix),\n",
    "                 FEATURES=['pfx','sfx','root','word','pos','ner','dep_rel','dep_head']):\n",
    "        self.FEATURES = FEATURES\n",
    "        self.X_train = [featurizer.sent_featurize(datum[0],FEATURES) for datum in train]\n",
    "        self.Y_train = [datum[1] for datum in train]\n",
    "        self.X_test = [featurizer.sent_featurize(datum[0],FEATURES) for datum in test]\n",
    "        self.Y_test = [datum[1] for datum in test]\n",
    "    \n",
    "    def train(self, config={'c1': 1.0, \n",
    "                            'c2': 1e-3, \n",
    "                            'max_iterations': 100,\n",
    "                            'feature.possible_transitions':True}):\n",
    "        crf = pycrfsuite.Trainer(verbose=0)               \n",
    "        for x,y in zip(self.X_train,self.Y_train):\n",
    "            crf.append(x,y)\n",
    "        crf.set_params(config)\n",
    "        tagger_name=time.ctime()+'crf.crfsuite' # avoid repetition\n",
    "        crf.train(tagger_name)\n",
    "        self.tagger = pycrfsuite.Tagger()\n",
    "        self.tagger.open(tagger_name)\n",
    "        \n",
    "        y_true = self.Y_test\n",
    "        y_pred = [self.tagger.tag(sent) for sent in self.X_test]\n",
    "        y_true_merged = list(chain.from_iterable(y_true))\n",
    "        y_pred_merged = list(chain.from_iterable(y_pred)) \n",
    "        accuracy = accuracy_score(y_true_merged,y_pred_merged)\n",
    "        \n",
    "        return accuracy\n",
    "        "
   ]
  },
  {
   "cell_type": "markdown",
   "metadata": {},
   "source": [
    "## IV. Selectional Preference Strength"
   ]
  },
  {
   "cell_type": "markdown",
   "metadata": {},
   "source": [
    "### A. SPS Facilities"
   ]
  },
  {
   "cell_type": "markdown",
   "metadata": {},
   "source": [
    "* **Selectional Preference Strength (SPS)**: The extent to which the probability of observing a feature $ft$ increases (from its marginal probability distribution on a dataset) on conditioning $ft$ on a particular label $l$.\n",
    "\n",
    "* **SPS**: $SPS(l) = D_{KL}(P(ft|l)||P(ft)) = \\sum_{i}P(ft_i|l)\\cdot log\\frac{P(ft_i|l)}{P(ft_i)}$."
   ]
  },
  {
   "cell_type": "code",
   "execution_count": 59,
   "metadata": {
    "collapsed": true
   },
   "outputs": [],
   "source": [
    "import numpy as np\n",
    "from __future__ import division"
   ]
  },
  {
   "cell_type": "code",
   "execution_count": 60,
   "metadata": {
    "collapsed": true
   },
   "outputs": [],
   "source": [
    "def selectional_strength(data, feature):\n",
    "    \n",
    "    ft_ex = FeatureExtractor(prefix, suffix)\n",
    "    \n",
    "    label_feat_pairs = []\n",
    "    for (datum,labels) in data:\n",
    "        for w_idx in xrange(len(datum[0])):\n",
    "            label_feat_pairs.append(ft_ex.get_feature(w_idx,(datum,labels),feature=feature))\n",
    "    \n",
    "    feat_set = list({feat for label,feat in label_feat_pairs})\n",
    "    label_set = list({label for label,feat in label_feat_pairs})\n",
    "    \n",
    "    f2i = {f:i for i,f in enumerate(feat_set)}\n",
    "    l2i = {l:i for i,l in enumerate(label_set)}\n",
    "    \n",
    "    label_feat_matrix = np.zeros((len(label_set),len(feat_set)))\n",
    "    for label,feat in label_feat_pairs:\n",
    "        label_feat_matrix[l2i[label]][f2i[feat]] += 1\n",
    "    \n",
    "    total_freq = label_feat_matrix.sum()\n",
    "    \n",
    "    log = lambda x: np.log(x) if x!=0 else np.log(1e-20)\n",
    "    div = lambda num,denom: 0. if denom==0. else num/denom\n",
    "    \n",
    "    def pr_feat(feat):\n",
    "        return label_feat_matrix[:,f2i[feat]].sum() / total_freq\n",
    "\n",
    "    def pr_feat_given_label(feat, label):\n",
    "        return label_feat_matrix[l2i[label]][f2i[feat]] / \\\n",
    "                label_feat_matrix[l2i[label],:].sum()\n",
    "\n",
    "    def sps_feat(label):\n",
    "        return sum(pr_feat_given_label(feat,label)*log(div(pr_feat_given_label(feat,label),pr_feat(feat)))\n",
    "                   for feat in feat_set)\n",
    "    \n",
    "    return sum(sps_feat(label) for label in label_set)\n",
    "    "
   ]
  },
  {
   "cell_type": "code",
   "execution_count": 61,
   "metadata": {
    "collapsed": true
   },
   "outputs": [],
   "source": [
    "features = ['pfx','sfx','root','word','pos','ner','dep_rel','dep_head']"
   ]
  },
  {
   "cell_type": "code",
   "execution_count": 62,
   "metadata": {
    "collapsed": false
   },
   "outputs": [
    {
     "name": "stdout",
     "output_type": "stream",
     "text": [
      "Selectional Preference Strength of pfx: 17.780486\n",
      "Selectional Preference Strength of sfx: 133.128422\n",
      "Selectional Preference Strength of root: 639.749198\n",
      "Selectional Preference Strength of word: 657.157284\n",
      "Selectional Preference Strength of pos: 168.285976\n",
      "Selectional Preference Strength of ner: 89.761791\n",
      "Selectional Preference Strength of dep_rel: 208.981067\n",
      "Selectional Preference Strength of dep_head: 419.078054\n",
      "CPU times: user 23.6 s, sys: 152 ms, total: 23.7 s\n",
      "Wall time: 23.7 s\n"
     ]
    }
   ],
   "source": [
    "%%time\n",
    "sps_list = []\n",
    "for feature in features:\n",
    "    sps = selectional_strength(train, feature)\n",
    "    sps_list.append(sps)\n",
    "    print \"Selectional Preference Strength of %s: %.6f\" % (feature, sps)"
   ]
  },
  {
   "cell_type": "markdown",
   "metadata": {},
   "source": [
    "### B. Evaluation"
   ]
  },
  {
   "cell_type": "code",
   "execution_count": 66,
   "metadata": {
    "collapsed": true
   },
   "outputs": [],
   "source": [
    "from scipy.stats.stats import pearsonr\n",
    "import matplotlib.pyplot as plt\n",
    "%matplotlib inline"
   ]
  },
  {
   "cell_type": "code",
   "execution_count": 64,
   "metadata": {
    "collapsed": false
   },
   "outputs": [
    {
     "name": "stdout",
     "output_type": "stream",
     "text": [
      "Accuracy with only pfx: 62.230920\n",
      "Accuracy with only sfx: 72.048271\n",
      "Accuracy with only root: 96.031746\n",
      "Accuracy with only word: 95.988258\n",
      "Accuracy with only pos: 76.407915\n",
      "Accuracy with only ner: 64.285714\n",
      "Accuracy with only dep_rel: 77.310285\n",
      "Accuracy with only dep_head: 83.648619\n",
      "CPU times: user 23min 14s, sys: 7.09 s, total: 23min 21s\n",
      "Wall time: 23min 29s\n"
     ]
    }
   ],
   "source": [
    "%%time\n",
    "accuracies = []\n",
    "for feature in features:\n",
    "    crf = CRF(train, test, FEATURES=[feature])\n",
    "    accuracy = crf.train()\n",
    "    accuracies.append(accuracy)\n",
    "    print \"Accuracy with only %s: %.6f\" % (feature, accuracy*100)"
   ]
  },
  {
   "cell_type": "code",
   "execution_count": 68,
   "metadata": {
    "collapsed": false
   },
   "outputs": [
    {
     "name": "stdout",
     "output_type": "stream",
     "text": [
      "Pearson Correlation: 0.976704 | p-value: 0.000031\n"
     ]
    }
   ],
   "source": [
    "print \"Pearson Correlation: %.6f | p-value: %.6f\" % pearsonr(sps_list, accuracies)"
   ]
  },
  {
   "cell_type": "code",
   "execution_count": 70,
   "metadata": {
    "collapsed": false
   },
   "outputs": [
    {
     "data": {
      "image/png": "[encoded data removed]",
      "text/plain": [
       "<matplotlib.figure.Figure at 0x10a64fd50>"
      ]
     },
     "metadata": {},
     "output_type": "display_data"
    }
   ],
   "source": [
    "fig = plt.figure(figsize=(10,5))\n",
    "ax = plt.subplot(121)\n",
    "ax.scatter(sps_list, accuracies, s=30)\n",
    "ax.set_xlabel('SPS')\n",
    "ax.set_ylabel('Accuracies')\n",
    "ax = plt.subplot(122)\n",
    "ax.scatter(np.log(sps_list), accuracies, s=30, color='red')\n",
    "ax.set_xlabel('Log SPS')\n",
    "ax.set_ylabel('Accuracies')\n",
    "plt.show()"
   ]
  },
  {
   "cell_type": "markdown",
   "metadata": {},
   "source": [
    "## V. Selectional Association Strength"
   ]
  },
  {
   "cell_type": "markdown",
   "metadata": {},
   "source": [
    "* **Selectional Association Strength (SAS)**: The contribution of a feature value $ft_i$ to the overall $SPS$ of a label $l$ with respect to $ft$.\n",
    "* **SAS**: * $SAS(ft_i,l) = \\frac{P(ft_i|l)\\cdot log\\frac{P(ft_i|l)}{P(ft_i)}}{SPS(l)}$."
   ]
  },
  {
   "cell_type": "markdown",
   "metadata": {},
   "source": [
    "### A. SAS Facilities"
   ]
  },
  {
   "cell_type": "code",
   "execution_count": 74,
   "metadata": {
    "collapsed": true
   },
   "outputs": [],
   "source": [
    "import numpy as np"
   ]
  },
  {
   "cell_type": "code",
   "execution_count": 71,
   "metadata": {
    "collapsed": true
   },
   "outputs": [],
   "source": [
    "log = lambda x: np.log(x) if x>0 else np.log(1e-20)\n",
    "div = lambda x,y: x/y if y!=0 else 0"
   ]
  },
  {
   "cell_type": "code",
   "execution_count": 77,
   "metadata": {
    "collapsed": true
   },
   "outputs": [],
   "source": [
    "w2i = dicts['words2idx']\n",
    "l2i = dicts['labels2idx']\n",
    "word_vocab = w2i.keys()\n",
    "label_vocab = l2i.keys()"
   ]
  },
  {
   "cell_type": "code",
   "execution_count": 75,
   "metadata": {
    "collapsed": true
   },
   "outputs": [],
   "source": [
    "def build_w2l_matrix(pos):\n",
    "    m = np.zeros((len(word_vocab),len(label_vocab)))\n",
    "    for X,Y in zip(X_train,Y_train):\n",
    "        for i in xrange(abs(pos),min(len(Y),len(Y)-pos)):\n",
    "            m[w2i[X[i+pos]]][l2i[Y[i]]] += 1\n",
    "    return m\n",
    "\n",
    "def resnik_association_matrix(w2l):\n",
    "    \n",
    "    total_count = w2l.sum()\n",
    "    p_w = lambda w: div(w2l[w2i[w],:].sum(), total_count)\n",
    "    p_w_given_l = lambda w,l: div(w2l[w2i[w]][l2i[l]], w2l[:,l2i[l]].sum())\n",
    "    sps_w_l = lambda w,l: p_w_given_l(w,l)*log(div(p_w_given_l(w,l),p_w(w)))\n",
    "    sps_l = lambda l: sum(p_w_given_l(w,l)*log(div(p_w_given_l(w,l),p_w(w))) \n",
    "                          for w in word_vocab)\n",
    "    \n",
    "    asso_w_l = np.zeros((len(word_vocab),len(label_vocab)))\n",
    "    for l in label_vocab:\n",
    "        s_l = sps_l(l)\n",
    "        for w in word_vocab:\n",
    "            asso_w_l[w2i[w]][l2i[l]] = div(sps_w_l(w,l),s_l)\n",
    "    \n",
    "    return asso_w_l\n",
    "\n",
    "def top_k(asso, l, k=5):\n",
    "    \n",
    "    l_vec = asso[:,l2i[l]]\n",
    "    k_ws = np.argsort(l_vec)[::-1][:k]\n",
    "    \n",
    "    return zip(map(i2w.get, k_ws),[l_vec[w_idx] for w_idx in k_ws])"
   ]
  },
  {
   "cell_type": "code",
   "execution_count": 78,
   "metadata": {
    "collapsed": false
   },
   "outputs": [],
   "source": [
    "w2l_ms = {'neg2':build_w2l_matrix(pos=-2),\n",
    "          'neg1':build_w2l_matrix(pos=-1),\n",
    "          'zero':build_w2l_matrix(pos=0),\n",
    "          'pos1':build_w2l_matrix(pos=1),\n",
    "          'pos2':build_w2l_matrix(pos=2)}"
   ]
  },
  {
   "cell_type": "code",
   "execution_count": 79,
   "metadata": {
    "collapsed": false
   },
   "outputs": [],
   "source": [
    "asso_ms = {'neg2':resnik_association_matrix(w2l_ms['neg2']),\n",
    "           'neg1':resnik_association_matrix(w2l_ms['neg1']),\n",
    "           'zero':resnik_association_matrix(w2l_ms['zero']),\n",
    "           'pos1':resnik_association_matrix(w2l_ms['pos1']),\n",
    "           'pos2':resnik_association_matrix(w2l_ms['pos2'])}"
   ]
  },
  {
   "cell_type": "code",
   "execution_count": 81,
   "metadata": {
    "collapsed": true
   },
   "outputs": [],
   "source": [
    "l1 = 'B-fromloc.city_name'\n",
    "l2 = 'B-toloc.city_name'"
   ]
  },
  {
   "cell_type": "code",
   "execution_count": 82,
   "metadata": {
    "collapsed": false
   },
   "outputs": [
    {
     "data": {
      "text/plain": [
       "[('from', 0.91907842123589178),\n",
       " ('between', 0.071307412020743574),\n",
       " ('leaving', 0.021747763665529767),\n",
       " ('leave', 0.010534667010072322),\n",
       " ('leaves', 0.00080508222757163454)]"
      ]
     },
     "execution_count": 82,
     "metadata": {},
     "output_type": "execute_result"
    }
   ],
   "source": [
    "top_k(asso_ms['neg1'], l1)"
   ]
  },
  {
   "cell_type": "code",
   "execution_count": 83,
   "metadata": {
    "collapsed": false
   },
   "outputs": [
    {
     "data": {
      "text/plain": [
       "[('to', 0.92025153953489625),\n",
       " ('and', 0.051358698459713206),\n",
       " ('in', 0.019955171600037791),\n",
       " ('downtown', 0.0059494972721757028),\n",
       " ('into', 0.0052958856826928287)]"
      ]
     },
     "execution_count": 83,
     "metadata": {},
     "output_type": "execute_result"
    }
   ],
   "source": [
    "top_k(asso_ms['neg1'], l2)"
   ]
  }
 ],
 "metadata": {
  "kernelspec": {
   "display_name": "Python 2",
   "language": "python",
   "name": "python2"
  },
  "language_info": {
   "codemirror_mode": {
    "name": "ipython",
    "version": 2
   },
   "file_extension": ".py",
   "mimetype": "text/x-python",
   "name": "python",
   "nbconvert_exporter": "python",
   "pygments_lexer": "ipython2",
   "version": "2.7.11"
  }
 },
 "nbformat": 4,
 "nbformat_minor": 0
}
